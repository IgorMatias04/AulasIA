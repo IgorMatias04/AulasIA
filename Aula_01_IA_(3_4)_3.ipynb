{
  "nbformat": 4,
  "nbformat_minor": 0,
  "metadata": {
    "colab": {
      "provenance": [],
      "authorship_tag": "ABX9TyN5l8fSdN7cCs9EYpR33+2t",
      "include_colab_link": true
    },
    "kernelspec": {
      "name": "python3",
      "display_name": "Python 3"
    },
    "language_info": {
      "name": "python"
    }
  },
  "cells": [
    {
      "cell_type": "markdown",
      "metadata": {
        "id": "view-in-github",
        "colab_type": "text"
      },
      "source": [
        "<a href=\"https://colab.research.google.com/github/IgorMatias04/AulasIA/blob/main/Aula_01_IA_(3_4)_3.ipynb\" target=\"_parent\"><img src=\"https://colab.research.google.com/assets/colab-badge.svg\" alt=\"Open In Colab\"/></a>"
      ]
    },
    {
      "cell_type": "code",
      "execution_count": 1,
      "metadata": {
        "id": "kZxBma18vMBK"
      },
      "outputs": [],
      "source": [
        "d = {(x, x + 1): x for x in range(10)}"
      ]
    },
    {
      "cell_type": "code",
      "source": [
        "print(d)"
      ],
      "metadata": {
        "colab": {
          "base_uri": "https://localhost:8080/"
        },
        "id": "6T1qHWcyvRqQ",
        "outputId": "c9497ffa-c4c0-49a4-f981-2bc812b05286"
      },
      "execution_count": 2,
      "outputs": [
        {
          "output_type": "stream",
          "name": "stdout",
          "text": [
            "{(0, 1): 0, (1, 2): 1, (2, 3): 2, (3, 4): 3, (4, 5): 4, (5, 6): 5, (6, 7): 6, (7, 8): 7, (8, 9): 8, (9, 10): 9}\n"
          ]
        }
      ]
    },
    {
      "cell_type": "code",
      "source": [
        "tp2 = (5, 6)"
      ],
      "metadata": {
        "id": "cdcZ8jCdvaDu"
      },
      "execution_count": 3,
      "outputs": []
    },
    {
      "cell_type": "code",
      "source": [
        "print(type(tp2))"
      ],
      "metadata": {
        "colab": {
          "base_uri": "https://localhost:8080/"
        },
        "id": "N0NA630xvdDl",
        "outputId": "29a57a5a-933f-435e-8782-9fe7e1cb0fcb"
      },
      "execution_count": 4,
      "outputs": [
        {
          "output_type": "stream",
          "name": "stdout",
          "text": [
            "<class 'tuple'>\n"
          ]
        }
      ]
    },
    {
      "cell_type": "code",
      "source": [
        "print(d[tp2])"
      ],
      "metadata": {
        "colab": {
          "base_uri": "https://localhost:8080/"
        },
        "id": "K3DxUOxqvebt",
        "outputId": "b8e42ece-e8da-4bda-dc48-a6fa77b19a78"
      },
      "execution_count": 5,
      "outputs": [
        {
          "output_type": "stream",
          "name": "stdout",
          "text": [
            "5\n"
          ]
        }
      ]
    },
    {
      "cell_type": "code",
      "source": [
        "print(d[(1, 2)])"
      ],
      "metadata": {
        "colab": {
          "base_uri": "https://localhost:8080/"
        },
        "id": "Nr6-43YLvfjF",
        "outputId": "8e79abd1-9fd2-4eef-82ce-179afe452862"
      },
      "execution_count": 6,
      "outputs": [
        {
          "output_type": "stream",
          "name": "stdout",
          "text": [
            "1\n"
          ]
        }
      ]
    },
    {
      "cell_type": "code",
      "source": [],
      "metadata": {
        "id": "JJE-dsyYvgiF"
      },
      "execution_count": null,
      "outputs": []
    }
  ]
}