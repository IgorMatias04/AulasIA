{
  "nbformat": 4,
  "nbformat_minor": 0,
  "metadata": {
    "colab": {
      "provenance": [],
      "authorship_tag": "ABX9TyNTotckyczrALJSPvWwiTCV",
      "include_colab_link": true
    },
    "kernelspec": {
      "name": "python3",
      "display_name": "Python 3"
    },
    "language_info": {
      "name": "python"
    }
  },
  "cells": [
    {
      "cell_type": "markdown",
      "metadata": {
        "id": "view-in-github",
        "colab_type": "text"
      },
      "source": [
        "<a href=\"https://colab.research.google.com/github/IgorMatias04/AulasIA/blob/main/Aula_01_IA_(2_3).ipynb\" target=\"_parent\"><img src=\"https://colab.research.google.com/assets/colab-badge.svg\" alt=\"Open In Colab\"/></a>"
      ]
    },
    {
      "cell_type": "code",
      "execution_count": 2,
      "metadata": {
        "colab": {
          "base_uri": "https://localhost:8080/"
        },
        "id": "EeCygbU9h3Sb",
        "outputId": "a7263071-0b00-4d09-bec9-b86691358a6f"
      },
      "outputs": [
        {
          "output_type": "stream",
          "name": "stdout",
          "text": [
            "Igor Matias\n",
            "Igor Florencio\n"
          ]
        }
      ],
      "source": [
        "nome = 'Igor Matias'\n",
        "print(nome)\n",
        "n = 'Igor'\n",
        "sn = 'Florencio'\n",
        "nc = n + ' ' + sn\n",
        "print(nc)"
      ]
    }
  ]
}